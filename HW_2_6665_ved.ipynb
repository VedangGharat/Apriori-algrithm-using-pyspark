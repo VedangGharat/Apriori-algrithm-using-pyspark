{
  "cells": [
    {
      "cell_type": "code",
      "source": [
        "#installing pyspark\n",
        "!pip install pyspark"
      ],
      "metadata": {
        "colab": {
          "base_uri": "https://localhost:8080/"
        },
        "id": "uHxQ22KaWlw1",
        "outputId": "77203d26-9fb3-4d78-91d1-86c580685440"
      },
      "execution_count": 2,
      "outputs": [
        {
          "output_type": "stream",
          "name": "stdout",
          "text": [
            "Collecting pyspark\n",
            "  Downloading pyspark-3.2.1.tar.gz (281.4 MB)\n",
            "\u001b[K     |████████████████████████████████| 281.4 MB 38 kB/s \n",
            "\u001b[?25hCollecting py4j==0.10.9.3\n",
            "  Downloading py4j-0.10.9.3-py2.py3-none-any.whl (198 kB)\n",
            "\u001b[K     |████████████████████████████████| 198 kB 60.9 MB/s \n",
            "\u001b[?25hBuilding wheels for collected packages: pyspark\n",
            "  Building wheel for pyspark (setup.py) ... \u001b[?25l\u001b[?25hdone\n",
            "  Created wheel for pyspark: filename=pyspark-3.2.1-py2.py3-none-any.whl size=281853642 sha256=4961119d78aaefae30daae7846f477a1894b2710c429e06b2b448ac8648ff613\n",
            "  Stored in directory: /root/.cache/pip/wheels/9f/f5/07/7cd8017084dce4e93e84e92efd1e1d5334db05f2e83bcef74f\n",
            "Successfully built pyspark\n",
            "Installing collected packages: py4j, pyspark\n",
            "Successfully installed py4j-0.10.9.3 pyspark-3.2.1\n"
          ]
        }
      ]
    },
    {
      "cell_type": "code",
      "source": [
        "#importing libaries\n",
        "import itertools\n",
        "import pyspark"
      ],
      "metadata": {
        "id": "fr0Jlhi1XOwO"
      },
      "execution_count": 3,
      "outputs": []
    },
    {
      "cell_type": "code",
      "source": [
        "#making spark context instance\n",
        "sc=pyspark.SparkContext(\"local\",\"Apriori\")\n",
        "#loading data\n",
        "data = sc.textFile(\"browsing.txt\")"
      ],
      "metadata": {
        "id": "KKdIL-KqYOkv"
      },
      "execution_count": 4,
      "outputs": []
    },
    {
      "cell_type": "code",
      "source": [
        "#reading data line by line\n",
        "txt_RDD = data.map(lambda line:line.split())\n",
        "txt_RDD.take(10)"
      ],
      "metadata": {
        "colab": {
          "base_uri": "https://localhost:8080/"
        },
        "id": "Bsjw20qPYPK-",
        "outputId": "65f31dcb-c7cb-48b5-9973-06af8fec337b"
      },
      "execution_count": 8,
      "outputs": [
        {
          "output_type": "execute_result",
          "data": {
            "text/plain": [
              "[['FRO11987', 'ELE17451', 'ELE89019', 'SNA90258', 'GRO99222'],\n",
              " ['GRO99222',\n",
              "  'GRO12298',\n",
              "  'FRO12685',\n",
              "  'ELE91550',\n",
              "  'SNA11465',\n",
              "  'ELE26917',\n",
              "  'ELE52966',\n",
              "  'FRO90334',\n",
              "  'SNA30755',\n",
              "  'ELE17451',\n",
              "  'FRO84225',\n",
              "  'SNA80192'],\n",
              " ['ELE17451', 'GRO73461', 'DAI22896', 'SNA99873', 'FRO86643'],\n",
              " ['ELE17451', 'ELE37798', 'FRO86643', 'GRO56989', 'ELE23393', 'SNA11465'],\n",
              " ['ELE17451',\n",
              "  'SNA69641',\n",
              "  'FRO86643',\n",
              "  'FRO78087',\n",
              "  'SNA11465',\n",
              "  'GRO39357',\n",
              "  'ELE28573',\n",
              "  'ELE11375',\n",
              "  'DAI54444'],\n",
              " ['ELE17451',\n",
              "  'GRO73461',\n",
              "  'DAI22896',\n",
              "  'SNA99873',\n",
              "  'FRO18919',\n",
              "  'DAI50921',\n",
              "  'SNA80192',\n",
              "  'GRO75578'],\n",
              " ['ELE17451',\n",
              "  'ELE59935',\n",
              "  'FRO18919',\n",
              "  'ELE23393',\n",
              "  'SNA80192',\n",
              "  'SNA85662',\n",
              "  'SNA91554',\n",
              "  'DAI22177'],\n",
              " ['ELE17451',\n",
              "  'SNA69641',\n",
              "  'FRO18919',\n",
              "  'SNA90258',\n",
              "  'ELE28573',\n",
              "  'ELE11375',\n",
              "  'DAI14125',\n",
              "  'FRO78087'],\n",
              " ['ELE17451',\n",
              "  'GRO73461',\n",
              "  'DAI22896',\n",
              "  'SNA80192',\n",
              "  'SNA85662',\n",
              "  'SNA90258',\n",
              "  'DAI46755',\n",
              "  'FRO81176',\n",
              "  'ELE66810',\n",
              "  'DAI49199',\n",
              "  'DAI91535',\n",
              "  'GRO94758',\n",
              "  'ELE94711',\n",
              "  'DAI22177'],\n",
              " ['ELE17451',\n",
              "  'SNA69641',\n",
              "  'DAI91535',\n",
              "  'GRO94758',\n",
              "  'GRO99222',\n",
              "  'FRO76833',\n",
              "  'FRO81176',\n",
              "  'SNA80192',\n",
              "  'DAI54690',\n",
              "  'ELE37798',\n",
              "  'GRO56989']]"
            ]
          },
          "metadata": {},
          "execution_count": 8
        }
      ]
    },
    {
      "cell_type": "code",
      "source": [
        "#taking counts of each id\n",
        "from operator import add\n",
        "individual_counts = data.flatMap(lambda line: line.split()).map(lambda x: (x,1)).reduceByKey(add)\n",
        "individual_counts.take(10)\n",
        "\n",
        "#getting frequency of the id\n",
        "frequent_items_counts = individual_counts.filter(lambda x: x[1]>=100).sortBy(lambda x: x[0])\n",
        "frequent_items_counts.take(10)"
      ],
      "metadata": {
        "colab": {
          "base_uri": "https://localhost:8080/"
        },
        "id": "pVB4JWYoYPsG",
        "outputId": "13cd06aa-2f8d-4651-bcaa-958c6e403068"
      },
      "execution_count": 18,
      "outputs": [
        {
          "output_type": "execute_result",
          "data": {
            "text/plain": [
              "[('DAI11223', 155),\n",
              " ('DAI11778', 117),\n",
              " ('DAI13194', 116),\n",
              " ('DAI13266', 181),\n",
              " ('DAI13788', 213),\n",
              " ('DAI13902', 233),\n",
              " ('DAI14125', 163),\n",
              " ('DAI14181', 110),\n",
              " ('DAI14470', 153),\n",
              " ('DAI15681', 132)]"
            ]
          },
          "metadata": {},
          "execution_count": 18
        }
      ]
    },
    {
      "cell_type": "code",
      "source": [
        "#most frequent singles(ID)\n",
        "frequent_items_counts_collect = individual_counts.filter(lambda x: x[1]>=100).sortBy(lambda x: x[0]).collect()\n",
        "frequent_items = frequent_items_counts.map(lambda x: x[0])\n",
        "frequent_items_list = frequent_items_counts.map(lambda x: x[0]).collect()\n",
        "frequent_items_list[:10]"
      ],
      "metadata": {
        "colab": {
          "base_uri": "https://localhost:8080/"
        },
        "id": "VV5Lb_WSYP65",
        "outputId": "194fb6ce-4331-4326-d3d8-d8d7e4d79cf6"
      },
      "execution_count": 11,
      "outputs": [
        {
          "output_type": "execute_result",
          "data": {
            "text/plain": [
              "['DAI11223',\n",
              " 'DAI11778',\n",
              " 'DAI13194',\n",
              " 'DAI13266',\n",
              " 'DAI13788',\n",
              " 'DAI13902',\n",
              " 'DAI14125',\n",
              " 'DAI14181',\n",
              " 'DAI14470',\n",
              " 'DAI15681']"
            ]
          },
          "metadata": {},
          "execution_count": 11
        }
      ]
    },
    {
      "cell_type": "code",
      "source": [
        "#defining a filter find out the data for pairs\n",
        "def filtering_pair(l):\n",
        "    ret=[]\n",
        "    pair_lst=[]\n",
        "    for i in l:\n",
        "        if i in frequent_items_list:\n",
        "            ret.append(i)\n",
        "    ret.sort()\n",
        "    for pair in itertools.combinations(ret,2):\n",
        "        pair_lst.append((pair,1))\n",
        "    return(pair_lst)"
      ],
      "metadata": {
        "id": "BbMAZlTaYQI3"
      },
      "execution_count": 12,
      "outputs": []
    },
    {
      "cell_type": "code",
      "source": [
        "#defining confidence for pairs\n",
        "def confidence_1(par):\n",
        "    lst=[]\n",
        "    conf1 = par[1]/(frequent_pair_counts.filter(lambda x: x[0]==par[0][0]).collect())[0][1]\n",
        "    conf2 = par[1]/(frequent_items_counts.filter(lambda x: x[0]==par[0][1]).collect())[0][1]\n",
        "    lst.append(((par[0],par[1]),conf1))\n",
        "    lst.append(((par[1],par[0]),conf2))\n",
        "    return(lst)"
      ],
      "metadata": {
        "id": "-R4ZD1y1cl2Z"
      },
      "execution_count": 13,
      "outputs": []
    },
    {
      "cell_type": "code",
      "source": [
        "#defining a filter find out data for triplets\n",
        "def filter_triplets(l):\n",
        "    ret=[]\n",
        "    triplet=[]\n",
        "    for i in l:\n",
        "        if i in frequent_items_2:\n",
        "            ret.append(i)\n",
        "    ret.sort()\n",
        "    for trip in itertools.combinations(ret,3):\n",
        "        triplet.append(((trip),1))\n",
        "    return(triplet)"
      ],
      "metadata": {
        "id": "3VaEs99ZYQMk"
      },
      "execution_count": 14,
      "outputs": []
    },
    {
      "cell_type": "code",
      "source": [
        "#defining confidence for triplets\n",
        "def confidence_2(trip):\n",
        "    confidence_for_2=[]\n",
        "    for i in (itertools.combinations(trip[0],2)):\n",
        "        conf=trip[1]/(frequent_pair_counts.filter(lambda X: x[0]==i)).collect[0][1]\n",
        "        confidence_for_2.append((i,conf))\n",
        "    return(confidence_for_2)"
      ],
      "metadata": {
        "id": "WCSj5YAKgALn"
      },
      "execution_count": 15,
      "outputs": []
    },
    {
      "cell_type": "code",
      "source": [
        "#most frequent doubles\n",
        "#calculting pairs of each id \n",
        "pair_count = txt_RDD.flatMap(lambda x: filtering_pair(x)).reduceByKey(add).sortBy( lambda x: x[0])\n",
        "pair_count.take(10)\n",
        "\n",
        "#getting ferquent ppair count\n",
        "frequent_pair_counts = pair_count.filter(lambda x: x[1]>=100)\n",
        "frequent_pair_counts.take(10)\n",
        "frequent_pair_counts_list = frequent_pair_counts.collect()\n",
        "\n",
        "\n",
        "#pairs bought together\n",
        "frequent_pair = frequent_pair_counts.map(lambda x: x[0])\n",
        "# frequent_pair.take(10)\n",
        "frequent_pair_counts_list[:10]"
      ],
      "metadata": {
        "colab": {
          "base_uri": "https://localhost:8080/"
        },
        "id": "qcXnPwBTbSld",
        "outputId": "0c4d1eea-4329-4d30-eff7-d221ae8ba257"
      },
      "execution_count": 16,
      "outputs": [
        {
          "output_type": "execute_result",
          "data": {
            "text/plain": [
              "[(('DAI16732', 'FRO78087'), 106),\n",
              " (('DAI18527', 'SNA44451'), 102),\n",
              " (('DAI22177', 'DAI31081'), 127),\n",
              " (('DAI22177', 'DAI62779'), 382),\n",
              " (('DAI22177', 'DAI63921'), 136),\n",
              " (('DAI22177', 'DAI75645'), 123),\n",
              " (('DAI22177', 'DAI83733'), 126),\n",
              " (('DAI22177', 'DAI85309'), 172),\n",
              " (('DAI22177', 'ELE17451'), 203),\n",
              " (('DAI22177', 'ELE26917'), 134)]"
            ]
          },
          "metadata": {},
          "execution_count": 16
        }
      ]
    },
    {
      "cell_type": "code",
      "source": [
        "#most frequent triplets\n",
        "#list of most frequent items for triplets\n",
        "frequent_items_2 = frequent_pair.flatMap(lambda x: x).collect()\n",
        "frequent_items_2[:10]\n",
        "\n",
        "#calculating items counts for triplets\n",
        "triplets_count = txt_RDD.flatMap(lambda x: filter_triplets(x)).reduceByKey(add).sortBy(lambda x: x[0])\n",
        "triplets_count.take(10)\n",
        "\n",
        "#calculating frequent seen triplets\n",
        "frequent_triplets = triplets_count.filter(lambda x: x[1]>=100)\n",
        "frequent_triplets.take(10)"
      ],
      "metadata": {
        "colab": {
          "base_uri": "https://localhost:8080/"
        },
        "id": "ZTvgh7_8YQQB",
        "outputId": "d9082d4f-0d12-4b3f-f9f6-a3b00808e0c4"
      },
      "execution_count": 17,
      "outputs": [
        {
          "output_type": "execute_result",
          "data": {
            "text/plain": [
              "[(('DAI22896', 'DAI62779', 'GRO73461'), 101),\n",
              " (('DAI23334', 'DAI62779', 'ELE92920'), 143),\n",
              " (('DAI31081', 'DAI62779', 'ELE17451'), 103),\n",
              " (('DAI31081', 'DAI75645', 'FRO40251'), 122),\n",
              " (('DAI31081', 'ELE32164', 'GRO59710'), 112),\n",
              " (('DAI31081', 'FRO40251', 'GRO85051'), 102),\n",
              " (('DAI31081', 'FRO40251', 'SNA80324'), 103),\n",
              " (('DAI42083', 'DAI62779', 'DAI92600'), 105),\n",
              " (('DAI42083', 'DAI92600', 'ELE17451'), 117),\n",
              " (('DAI42493', 'DAI62779', 'ELE17451'), 112)]"
            ]
          },
          "metadata": {},
          "execution_count": 17
        }
      ]
    },
    {
      "cell_type": "code",
      "source": [
        "#calculating confidence for pairs\n",
        "confidence_one=[]\n",
        "for i in frequent_pair_counts_list:\n",
        "    confid_1 = i[1]/(frequent_items_counts.filter(lambda x: x[0]==i[0][0]).collect())[0][1]\n",
        "    confid_2 = i[1]/(frequent_items_counts.filter(lambda x: x[0]==i[0][1]).collect())[0][1]\n",
        "    confidence_one.append(((i[0][0],i[0][1]),confid_1))\n",
        "    confidence_one.append(((i[0][1],i[0][0]),confid_2))\n",
        "#top 5 values for pairs\n",
        "confidence_one.sort(key=lambda x: -x[1])\n",
        "confidence_one[:5]    "
      ],
      "metadata": {
        "colab": {
          "base_uri": "https://localhost:8080/"
        },
        "id": "W-i8aLikbb_B",
        "outputId": "740ebda4-1c74-482a-8c2f-17bc56e84c58"
      },
      "execution_count": 24,
      "outputs": [
        {
          "output_type": "execute_result",
          "data": {
            "text/plain": [
              "[(('DAI93865', 'FRO40251'), 1.0),\n",
              " (('GRO85051', 'FRO40251'), 0.999176276771005),\n",
              " (('GRO38636', 'FRO40251'), 0.9906542056074766),\n",
              " (('ELE12951', 'FRO40251'), 0.9905660377358491),\n",
              " (('DAI88079', 'FRO40251'), 0.9867256637168141)]"
            ]
          },
          "metadata": {},
          "execution_count": 24
        }
      ]
    },
    {
      "cell_type": "markdown",
      "source": [
        "'DAI93865', 'FRO40251' -> 1.0\n",
        "\n",
        "'GRO85051', 'FRO40251' -> 0.999176276771005\n",
        "\n",
        "'GRO38636', 'FRO40251' -> 0.9906542056074766\n",
        "\n",
        "'ELE12951', 'FRO40251' -> 0.9905660377358491\n",
        "\n",
        "'DAI88079', 'FRO40251' -> 0.9867256637168141"
      ],
      "metadata": {
        "id": "FdnfmFemhXxx"
      }
    },
    {
      "cell_type": "code",
      "source": [
        "#calculating confidence for triplets\n",
        "frequent_triplets_list = triplets_count.filter(lambda x: x[1]>=100).collect()\n",
        "confidence_triplets=[]\n",
        "for i in frequent_triplets_list:\n",
        "    a=set(i[0])\n",
        "    for j in (itertools.combinations(i[0],2)):\n",
        "        b=set(j)\n",
        "        c=list(a-b)\n",
        "        confidence_=i[1]/(frequent_pair_counts.filter(lambda x: x[0]==j)).collect()[0][1]\n",
        "        confidence_triplets.append(((j,c[0]),confidence_))"
      ],
      "metadata": {
        "id": "ylC8yEeQjY8u"
      },
      "execution_count": 31,
      "outputs": []
    },
    {
      "cell_type": "code",
      "source": [
        "#top 5 values for triplets\n",
        "confidence_triplets.sort(key = lambda x: -x[1])\n",
        "confidence_triplets[:5]"
      ],
      "metadata": {
        "colab": {
          "base_uri": "https://localhost:8080/"
        },
        "id": "28Puy5YCkC4R",
        "outputId": "93955df9-e758-45eb-e42a-6165133e28d8"
      },
      "execution_count": 33,
      "outputs": [
        {
          "output_type": "execute_result",
          "data": {
            "text/plain": [
              "[((('DAI23334', 'ELE92920'), 'DAI62779'), 1.0),\n",
              " ((('DAI31081', 'GRO85051'), 'FRO40251'), 1.0),\n",
              " ((('DAI55911', 'GRO85051'), 'FRO40251'), 1.0),\n",
              " ((('DAI62779', 'DAI88079'), 'FRO40251'), 1.0),\n",
              " ((('DAI75645', 'GRO85051'), 'FRO40251'), 1.0)]"
            ]
          },
          "metadata": {},
          "execution_count": 33
        }
      ]
    },
    {
      "cell_type": "markdown",
      "source": [
        "'DAI23334', 'ELE92920', 'DAI62779' -> 1.0\n",
        "\n",
        "'DAI31081', 'GRO85051', 'FRO40251' -> 1.0\n",
        "\n",
        "'DAI55911', 'GRO85051', 'FRO40251' -> 1.0\n",
        "\n",
        "'DAI62779', 'DAI88079', 'FRO40251' -> 1.0\n",
        "\n",
        "'DAI75645', 'GRO85051', 'FRO40251' -> 1.0"
      ],
      "metadata": {
        "id": "ty-_bpUDnrD9"
      }
    }
  ],
  "metadata": {
    "colab": {
      "collapsed_sections": [],
      "name": "HW_2_6665.ipynb",
      "provenance": []
    },
    "kernelspec": {
      "display_name": "Python 3 (ipykernel)",
      "language": "python",
      "name": "python3"
    },
    "language_info": {
      "codemirror_mode": {
        "name": "ipython",
        "version": 3
      },
      "file_extension": ".py",
      "mimetype": "text/x-python",
      "name": "python",
      "nbconvert_exporter": "python",
      "pygments_lexer": "ipython3",
      "version": "3.9.7"
    }
  },
  "nbformat": 4,
  "nbformat_minor": 0
}